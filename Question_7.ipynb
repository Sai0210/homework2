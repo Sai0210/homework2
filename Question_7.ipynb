{
  "cells": [
    {
      "cell_type": "markdown",
      "metadata": {
        "id": "view-in-github",
        "colab_type": "text"
      },
      "source": [
        "<a href=\"https://colab.research.google.com/github/Sai0210/homework2/blob/main/Question_7.ipynb\" target=\"_parent\"><img src=\"https://colab.research.google.com/assets/colab-badge.svg\" alt=\"Open In Colab\"/></a>"
      ]
    },
    {
      "cell_type": "code",
      "source": [
        "# Import necessary libraries\n",
        "from sklearn.datasets import load_iris\n",
        "from sklearn.model_selection import train_test_split\n",
        "from sklearn.tree import DecisionTreeClassifier\n",
        "from sklearn.metrics import accuracy_score\n",
        "\n",
        "# 1. Load the Iris dataset\n",
        "iris = load_iris()\n",
        "X = iris.data\n",
        "y = iris.target\n",
        "\n",
        "# 2. Split the dataset into training and testing sets\n",
        "# Using a 70/30 split and a random_state for reproducibility\n",
        "X_train, X_test, y_train, y_test = train_test_split(X, y, test_size=0.3, random_state=42)\n",
        "\n",
        "# Define the depths to test\n",
        "max_depths = [1, 2, 3]\n",
        "\n",
        "# Dictionary to store results\n",
        "results = {}\n",
        "\n",
        "print(\"--- Decision Tree Evaluation on Iris Dataset ---\")\n",
        "\n",
        "# 3. Train and evaluate a decision tree for each depth\n",
        "for depth in max_depths:\n",
        "    # Initialize the Decision Tree Classifier\n",
        "    # Using random_state for consistent results\n",
        "    dt_classifier = DecisionTreeClassifier(max_depth=depth, random_state=42)\n",
        "\n",
        "    # Train the model on the training data\n",
        "    dt_classifier.fit(X_train, y_train)\n",
        "\n",
        "    # Predict on the training data to get training accuracy\n",
        "    y_train_pred = dt_classifier.predict(X_train)\n",
        "    train_accuracy = accuracy_score(y_train, y_train_pred)\n",
        "\n",
        "    # Predict on the test data to get test accuracy\n",
        "    y_test_pred = dt_classifier.predict(X_test)\n",
        "    test_accuracy = accuracy_score(y_test, y_test_pred)\n",
        "\n",
        "    # Store and print the results for the current depth\n",
        "    results[depth] = {'train_accuracy': train_accuracy, 'test_accuracy': test_accuracy}\n",
        "    print(f\"\\nMax Depth = {depth}\")\n",
        "    print(f\"  Training Accuracy: {train_accuracy:.4f}\")\n",
        "    print(f\"  Test Accuracy:     {test_accuracy:.4f}\")\n",
        "\n",
        "print(\"\\n--- End of Evaluation ---\")"
      ],
      "outputs": [
        {
          "output_type": "stream",
          "name": "stdout",
          "text": [
            "--- Decision Tree Evaluation on Iris Dataset ---\n",
            "\n",
            "Max Depth = 1\n",
            "  Training Accuracy: 0.6476\n",
            "  Test Accuracy:     0.7111\n",
            "\n",
            "Max Depth = 2\n",
            "  Training Accuracy: 0.9429\n",
            "  Test Accuracy:     0.9778\n",
            "\n",
            "Max Depth = 3\n",
            "  Training Accuracy: 0.9524\n",
            "  Test Accuracy:     1.0000\n",
            "\n",
            "--- End of Evaluation ---\n"
          ]
        }
      ],
      "execution_count": 1,
      "metadata": {
        "colab": {
          "base_uri": "https://localhost:8080/"
        },
        "id": "A6PgLXcitpue",
        "outputId": "fc0771f1-20ea-45f4-f6f5-272eaf6ce117"
      }
    }
  ],
  "metadata": {
    "colab": {
      "provenance": [],
      "include_colab_link": true
    },
    "kernelspec": {
      "display_name": "Python 3",
      "name": "python3"
    }
  },
  "nbformat": 4,
  "nbformat_minor": 0
}